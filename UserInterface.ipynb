{
 "cells": [
  {
   "cell_type": "code",
   "execution_count": null,
   "metadata": {},
   "outputs": [],
   "source": [
    "from tkinter import *\n",
    "from tkinter import messagebox\n",
    "window=Tk()\n",
    "window.title(\"Form\")"
   ]
  },
  {
   "cell_type": "code",
   "execution_count": null,
   "metadata": {},
   "outputs": [],
   "source": [
    "import pandas as pd\n",
    "import matplotlib.pyplot as plt\n",
    "import numpy as np\n",
    "%matplotlib inline"
   ]
  },
  {
   "cell_type": "code",
   "execution_count": null,
   "metadata": {},
   "outputs": [],
   "source": [
    "df=pd.read_excel('Book6.xlsx')\n",
    "df"
   ]
  },
  {
   "cell_type": "code",
   "execution_count": null,
   "metadata": {},
   "outputs": [],
   "source": [
    "x=df[['pH','EC','OC','N','P','K','S','Zn','Fe','Cu','Mn','B']]\n",
    "y=df['Crop']"
   ]
  },
  {
   "cell_type": "code",
   "execution_count": null,
   "metadata": {},
   "outputs": [],
   "source": [
    "from sklearn.model_selection import train_test_split\n",
    "x2_test=[]\n",
    "x_train,x_test,y_train,y_test=train_test_split(x,y,test_size=0.1)"
   ]
  },
  {
   "cell_type": "code",
   "execution_count": null,
   "metadata": {},
   "outputs": [],
   "source": [
    "from sklearn.neighbors import KNeighborsClassifier\n",
    "neigh = KNeighborsClassifier(n_neighbors=3)\n",
    "neigh.fit(x_train,y_train)\n"
   ]
  },
  {
   "cell_type": "code",
   "execution_count": null,
   "metadata": {},
   "outputs": [],
   "source": []
  },
  {
   "cell_type": "code",
   "execution_count": null,
   "metadata": {},
   "outputs": [],
   "source": [
    "y_pred = neigh.predict(x_test)\n",
    "from sklearn import metrics\n",
    "print(metrics.accuracy_score(y_test,y_pred))"
   ]
  },
  {
   "cell_type": "code",
   "execution_count": null,
   "metadata": {},
   "outputs": [],
   "source": [
    "def get_value():\n",
    "    label=Label(window,text=\"Welcome\").grid(row=5,column=1)\n",
    "    response1=messagebox.showinfo(\"Alert Message\",\"Your Request Is Recieved\")\n",
    "    a1=var1.get()\n",
    "    a2=var2.get()\n",
    "    a3=float(var3.get())\n",
    "    a4=float(var4.get())\n",
    "    a5=float(var5.get())\n",
    "    a6=float(var6.get())\n",
    "    a7=float(var7.get())\n",
    "    a8=float(var8.get())\n",
    "    a9=float(var9.get())\n",
    "    a10=float(var10.get())\n",
    "    a11=float(var11.get())\n",
    "    a12=float(var12.get())\n",
    "    a13=float(var13.get())\n",
    "    a14=float(var14.get())\n",
    "    x2_test=[a1,a2,a3,a4,a5,a6,a7,a8,a9,a10,a11,a12,a13,a14]\n",
    "var1=StringVar()\n",
    "var2=StringVar()\n",
    "var3=DoubleVar()\n",
    "var4=DoubleVar()\n",
    "var5=DoubleVar()\n",
    "var6=DoubleVar()\n",
    "var7=DoubleVar()\n",
    "var8=DoubleVar()\n",
    "var9=DoubleVar()\n",
    "var10=DoubleVar()\n",
    "var11=DoubleVar()\n",
    "var12=DoubleVar()\n",
    "var13=DoubleVar()\n",
    "var14=DoubleVar()\n",
    "label0=Label(window,text=\"Welcome\").grid(row=0,column=1)\n",
    "label1=Label(window,text=\"Name\").grid(row=1,column=0)\n",
    "name=Entry(window,textvariable=var1).grid(row=1,column=1)\n",
    "label2=Label(window,text=\"Village\").grid(row=2,column=0)\n",
    "village=Entry(window,textvariable=var2).grid(row=2,column=1)\n",
    "label3=Label(window,text=\"pH\").grid(row=3,column=0)\n",
    "ph=Entry(window,textvariable=var3).grid(row=3,column=1)\n",
    "label4=Label(window,text=\"EC\").grid(row=4,column=0)\n",
    "ec=Entry(window,textvariable=var4).grid(row=4,column=1)\n",
    "label5=Label(window,text=\"Organic Carbon (OC)\").grid(row=5,column=0)\n",
    "oc=Entry(window,textvariable=var5).grid(row=5,column=1)\n",
    "label6=Label(window,text=\"Available Nitrogen (N)\").grid(row=6,column=0)\n",
    "n=Entry(window,textvariable=var6).grid(row=6,column=1)\n",
    "label7=Label(window,text=\"Available Phosphorus (P)\").grid(row=7,column=0)\n",
    "p=Entry(window,textvariable=var7).grid(row=7,column=1)\n",
    "label8=Label(window,text=\"Available Potassium (K)\").grid(row=8,column=0)\n",
    "k=Entry(window,textvariable=var8).grid(row=8,column=1)\n",
    "label9=Label(window,text=\"Available Sulphur (S)\").grid(row=9,column=0)\n",
    "s=Entry(window,textvariable=var9).grid(row=9,column=1)\n",
    "label10=Label(window,text=\"Available Zinc (Zn)\").grid(row=10,column=0)\n",
    "zn=Entry(window,textvariable=var10).grid(row=10,column=1)\n",
    "label11=Label(window,text=\"Available Boron (B)\").grid(row=11,column=0)\n",
    "b=Entry(window,textvariable=var11).grid(row=11,column=1)\n",
    "label12=Label(window,text=\"Available Iron (Fe)\").grid(row=12,column=0)\n",
    "fe=Entry(window,textvariable=var12).grid(row=12,column=1)\n",
    "label13=Label(window,text=\"Available Manganese (Mn)\").grid(row=13,column=0)\n",
    "mn=Entry(window,textvariable=var13).grid(row=13,column=1)\n",
    "label14=Label(window,text=\"Available Copper (Cu)\").grid(row=14,column=0)\n",
    "cu=Entry(window,textvariable=var14).grid(row=14,column=1)\n",
    "button=Button(window,text=\"Submit\",command=get_value).grid(row=15,column=1)\n",
    "window.mainloop()"
   ]
  },
  {
   "cell_type": "code",
   "execution_count": null,
   "metadata": {},
   "outputs": [],
   "source": [
    "y2_pred=neigh.predict(x2_test)\n",
    "messagebox.showinfo(str(y2_pred))"
   ]
  }
 ],
 "metadata": {
  "kernelspec": {
   "display_name": "Python 3",
   "language": "python",
   "name": "python3"
  },
  "language_info": {
   "codemirror_mode": {
    "name": "ipython",
    "version": 3
   },
   "file_extension": ".py",
   "mimetype": "text/x-python",
   "name": "python",
   "nbconvert_exporter": "python",
   "pygments_lexer": "ipython3",
   "version": "3.7.4"
  }
 },
 "nbformat": 4,
 "nbformat_minor": 2
}
